{
  "nbformat": 4,
  "nbformat_minor": 0,
  "metadata": {
    "colab": {
      "name": "DS Final Project",
      "provenance": [],
      "collapsed_sections": [
        "44ivoCS06uG-",
        "Ts7KT8h3Anat",
        "XxwjUJSAfQmS",
        "NF8krB2HIp3i",
        "C2ZlCFbQR3oP",
        "j6mOcHjQR_8f",
        "6DBulgB9D8Da"
      ]
    },
    "kernelspec": {
      "display_name": "Python 3",
      "name": "python3"
    },
    "language_info": {
      "name": "python"
    }
  },
  "cells": [
    {
      "cell_type": "markdown",
      "metadata": {
        "id": "44ivoCS06uG-"
      },
      "source": [
        "# **Initialize**"
      ]
    },
    {
      "cell_type": "code",
      "metadata": {
        "id": "2dxw5IxOwsRD"
      },
      "source": [
        "# Import necessary libraries\n",
        "import pandas as pd\n",
        "import numpy as np\n",
        "import io\n",
        "import matplotlib.pyplot as plt\n",
        "import seaborn as sns"
      ],
      "execution_count": null,
      "outputs": []
    },
    {
      "cell_type": "code",
      "metadata": {
        "colab": {
          "resources": {
            "http://localhost:8080/nbextensions/google.colab/files.js": {
              "data": "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",
              "ok": true,
              "headers": [
                [
                  "content-type",
                  "application/javascript"
                ]
              ],
              "status": 200,
              "status_text": ""
            }
          },
          "base_uri": "https://localhost:8080/",
          "height": 73
        },
        "id": "MR0OZRMHu9w3",
        "outputId": "10cd7b03-211b-470c-c05a-0c7295e80838"
      },
      "source": [
        "from google.colab import files\n",
        "uploaded = files.upload()"
      ],
      "execution_count": null,
      "outputs": [
        {
          "output_type": "display_data",
          "data": {
            "text/html": [
              "\n",
              "     <input type=\"file\" id=\"files-3e15e9e8-06a1-469a-9cd6-40f9fe953f9e\" name=\"files[]\" multiple disabled\n",
              "        style=\"border:none\" />\n",
              "     <output id=\"result-3e15e9e8-06a1-469a-9cd6-40f9fe953f9e\">\n",
              "      Upload widget is only available when the cell has been executed in the\n",
              "      current browser session. Please rerun this cell to enable.\n",
              "      </output>\n",
              "      <script src=\"/nbextensions/google.colab/files.js\"></script> "
            ],
            "text/plain": [
              "<IPython.core.display.HTML object>"
            ]
          },
          "metadata": {
            "tags": []
          }
        },
        {
          "output_type": "stream",
          "text": [
            "Saving development_dataset.csv to development_dataset.csv\n"
          ],
          "name": "stdout"
        }
      ]
    },
    {
      "cell_type": "code",
      "metadata": {
        "id": "Zniw8jn6vRe9"
      },
      "source": [
        "# Import data\n",
        "train_df = pd.read_csv(io.StringIO(uploaded['development_dataset.csv'].decode('utf-8')))\n",
        "#test_df = pd.read_csv(io.StringIO(uploaded['Evaluation_dataset.csv'].decode('utf-8')))"
      ],
      "execution_count": null,
      "outputs": []
    },
    {
      "cell_type": "code",
      "metadata": {
        "id": "KMEEC7KYzwI1"
      },
      "source": [
        "# Dropping Index Variable\n",
        "train_df.head(10)\n",
        "train_df = train_df.drop(['VAR1'], axis=1)"
      ],
      "execution_count": null,
      "outputs": []
    },
    {
      "cell_type": "code",
      "metadata": {
        "id": "xXY3tBXX88aJ"
      },
      "source": [
        "# Replace NaN values\n",
        "train_df.mean()\n",
        "train_df.fillna(train_df.mean(), inplace=True)"
      ],
      "execution_count": null,
      "outputs": []
    },
    {
      "cell_type": "code",
      "metadata": {
        "id": "kMMnPV73Weo4"
      },
      "source": [
        "# Dropping Rows having . in VAR14 (total_cards)\n",
        "train_df = train_df[train_df.VAR14 != '.']"
      ],
      "execution_count": null,
      "outputs": []
    },
    {
      "cell_type": "code",
      "metadata": {
        "id": "bdG1EGI9DIJk"
      },
      "source": [
        "# Handling categorical data using label encoding\n",
        "VAR21_dict = {'Low': 0, 'Medium': 1, 'High': 2}\n",
        "train_df['VAR21']=train_df.VAR21.map(VAR21_dict)\n",
        "train_df.head(10)"
      ],
      "execution_count": null,
      "outputs": []
    },
    {
      "cell_type": "code",
      "metadata": {
        "id": "tlGwZtKV7_Dm",
        "colab": {
          "base_uri": "https://localhost:8080/"
        },
        "outputId": "2ad0c942-dbe6-4008-f334-5d91cb9cec08"
      },
      "source": [
        "train_df['VAR21'].value_counts()"
      ],
      "execution_count": null,
      "outputs": [
        {
          "output_type": "execute_result",
          "data": {
            "text/plain": [
              "1    18062\n",
              "0    11952\n",
              "2     3713\n",
              "Name: VAR21, dtype: int64"
            ]
          },
          "metadata": {
            "tags": []
          },
          "execution_count": 9
        }
      ]
    },
    {
      "cell_type": "markdown",
      "metadata": {
        "id": "Ts7KT8h3Anat"
      },
      "source": [
        "# **Data Insights**"
      ]
    },
    {
      "cell_type": "code",
      "metadata": {
        "colab": {
          "base_uri": "https://localhost:8080/"
        },
        "id": "39IE5DxB8xY-",
        "outputId": "15e97b05-5197-4e3c-e361-71c35633dd97"
      },
      "source": [
        "train_df.describe()"
      ],
      "execution_count": null,
      "outputs": [
        {
          "output_type": "execute_result",
          "data": {
            "text/html": [
              "<div>\n",
              "<style scoped>\n",
              "    .dataframe tbody tr th:only-of-type {\n",
              "        vertical-align: middle;\n",
              "    }\n",
              "\n",
              "    .dataframe tbody tr th {\n",
              "        vertical-align: top;\n",
              "    }\n",
              "\n",
              "    .dataframe thead th {\n",
              "        text-align: right;\n",
              "    }\n",
              "</style>\n",
              "<table border=\"1\" class=\"dataframe\">\n",
              "  <thead>\n",
              "    <tr style=\"text-align: right;\">\n",
              "      <th></th>\n",
              "      <th>VAR2</th>\n",
              "      <th>VAR3</th>\n",
              "      <th>VAR4</th>\n",
              "      <th>VAR5</th>\n",
              "      <th>VAR6</th>\n",
              "      <th>VAR7</th>\n",
              "      <th>VAR8</th>\n",
              "      <th>VAR9</th>\n",
              "      <th>VAR10</th>\n",
              "      <th>VAR11</th>\n",
              "      <th>VAR12</th>\n",
              "      <th>VAR13</th>\n",
              "      <th>VAR15</th>\n",
              "      <th>VAR16</th>\n",
              "      <th>VAR17</th>\n",
              "      <th>VAR18</th>\n",
              "      <th>VAR19</th>\n",
              "      <th>VAR20</th>\n",
              "      <th>VAR21</th>\n",
              "    </tr>\n",
              "  </thead>\n",
              "  <tbody>\n",
              "    <tr>\n",
              "      <th>count</th>\n",
              "      <td>33727.000000</td>\n",
              "      <td>33727.000000</td>\n",
              "      <td>33727.000000</td>\n",
              "      <td>33727.000000</td>\n",
              "      <td>33727.000000</td>\n",
              "      <td>33727.000000</td>\n",
              "      <td>33727.000000</td>\n",
              "      <td>33727.000000</td>\n",
              "      <td>33727.000000</td>\n",
              "      <td>33727.000000</td>\n",
              "      <td>33727.000000</td>\n",
              "      <td>33727.000000</td>\n",
              "      <td>33727.000000</td>\n",
              "      <td>33727.000000</td>\n",
              "      <td>33727.000000</td>\n",
              "      <td>33727.000000</td>\n",
              "      <td>33727.000000</td>\n",
              "      <td>33727.000000</td>\n",
              "      <td>33727.000000</td>\n",
              "    </tr>\n",
              "    <tr>\n",
              "      <th>mean</th>\n",
              "      <td>917.651682</td>\n",
              "      <td>1.121313</td>\n",
              "      <td>247.822995</td>\n",
              "      <td>631.724836</td>\n",
              "      <td>15.323515</td>\n",
              "      <td>2.055936</td>\n",
              "      <td>200.008325</td>\n",
              "      <td>53.999616</td>\n",
              "      <td>56.559144</td>\n",
              "      <td>5.431849</td>\n",
              "      <td>117.398343</td>\n",
              "      <td>11.689422</td>\n",
              "      <td>12.463296</td>\n",
              "      <td>2.092616</td>\n",
              "      <td>821.254387</td>\n",
              "      <td>0.400718</td>\n",
              "      <td>0.299849</td>\n",
              "      <td>161.305506</td>\n",
              "      <td>0.755715</td>\n",
              "    </tr>\n",
              "    <tr>\n",
              "      <th>std</th>\n",
              "      <td>49.340173</td>\n",
              "      <td>12.106748</td>\n",
              "      <td>191.632750</td>\n",
              "      <td>30.933951</td>\n",
              "      <td>27.682333</td>\n",
              "      <td>8.885840</td>\n",
              "      <td>11.187585</td>\n",
              "      <td>62.092481</td>\n",
              "      <td>6.368632</td>\n",
              "      <td>10.116622</td>\n",
              "      <td>100.453509</td>\n",
              "      <td>9.604425</td>\n",
              "      <td>10.594759</td>\n",
              "      <td>7.980663</td>\n",
              "      <td>154.808277</td>\n",
              "      <td>0.685740</td>\n",
              "      <td>0.458198</td>\n",
              "      <td>123.234182</td>\n",
              "      <td>0.636240</td>\n",
              "    </tr>\n",
              "    <tr>\n",
              "      <th>min</th>\n",
              "      <td>730.588235</td>\n",
              "      <td>0.001333</td>\n",
              "      <td>28.571429</td>\n",
              "      <td>347.053355</td>\n",
              "      <td>0.005000</td>\n",
              "      <td>0.353228</td>\n",
              "      <td>0.000000</td>\n",
              "      <td>0.004278</td>\n",
              "      <td>13.028620</td>\n",
              "      <td>0.000693</td>\n",
              "      <td>0.834028</td>\n",
              "      <td>0.082667</td>\n",
              "      <td>0.133333</td>\n",
              "      <td>0.959315</td>\n",
              "      <td>0.130000</td>\n",
              "      <td>0.000000</td>\n",
              "      <td>0.000000</td>\n",
              "      <td>0.000000</td>\n",
              "      <td>0.000000</td>\n",
              "    </tr>\n",
              "    <tr>\n",
              "      <th>25%</th>\n",
              "      <td>883.529412</td>\n",
              "      <td>0.083333</td>\n",
              "      <td>107.142857</td>\n",
              "      <td>611.760319</td>\n",
              "      <td>6.818182</td>\n",
              "      <td>0.694973</td>\n",
              "      <td>197.205521</td>\n",
              "      <td>22.086661</td>\n",
              "      <td>56.497320</td>\n",
              "      <td>0.935530</td>\n",
              "      <td>40.033361</td>\n",
              "      <td>6.666667</td>\n",
              "      <td>7.333333</td>\n",
              "      <td>1.043628</td>\n",
              "      <td>821.281092</td>\n",
              "      <td>0.000000</td>\n",
              "      <td>0.000000</td>\n",
              "      <td>104.367470</td>\n",
              "      <td>0.000000</td>\n",
              "    </tr>\n",
              "    <tr>\n",
              "      <th>50%</th>\n",
              "      <td>922.352941</td>\n",
              "      <td>0.200000</td>\n",
              "      <td>248.076201</td>\n",
              "      <td>619.974475</td>\n",
              "      <td>11.363636</td>\n",
              "      <td>1.013345</td>\n",
              "      <td>197.949847</td>\n",
              "      <td>53.988554</td>\n",
              "      <td>58.632548</td>\n",
              "      <td>3.719252</td>\n",
              "      <td>117.283667</td>\n",
              "      <td>11.679589</td>\n",
              "      <td>12.453257</td>\n",
              "      <td>1.275142</td>\n",
              "      <td>821.281092</td>\n",
              "      <td>0.000000</td>\n",
              "      <td>0.000000</td>\n",
              "      <td>117.466437</td>\n",
              "      <td>1.000000</td>\n",
              "    </tr>\n",
              "    <tr>\n",
              "      <th>75%</th>\n",
              "      <td>956.470588</td>\n",
              "      <td>0.833333</td>\n",
              "      <td>248.076201</td>\n",
              "      <td>637.652768</td>\n",
              "      <td>16.363636</td>\n",
              "      <td>1.806689</td>\n",
              "      <td>199.842879</td>\n",
              "      <td>53.988554</td>\n",
              "      <td>58.632548</td>\n",
              "      <td>5.429062</td>\n",
              "      <td>130.108424</td>\n",
              "      <td>13.333333</td>\n",
              "      <td>13.333333</td>\n",
              "      <td>1.884312</td>\n",
              "      <td>821.281092</td>\n",
              "      <td>1.000000</td>\n",
              "      <td>1.000000</td>\n",
              "      <td>159.376936</td>\n",
              "      <td>1.000000</td>\n",
              "    </tr>\n",
              "    <tr>\n",
              "      <th>max</th>\n",
              "      <td>1000.000000</td>\n",
              "      <td>1000.000000</td>\n",
              "      <td>1000.000000</td>\n",
              "      <td>1000.000000</td>\n",
              "      <td>909.090818</td>\n",
              "      <td>681.582083</td>\n",
              "      <td>1000.000000</td>\n",
              "      <td>993.061289</td>\n",
              "      <td>1000.000000</td>\n",
              "      <td>824.334457</td>\n",
              "      <td>1000.000000</td>\n",
              "      <td>775.000000</td>\n",
              "      <td>775.000000</td>\n",
              "      <td>1000.000000</td>\n",
              "      <td>1000.000000</td>\n",
              "      <td>14.000000</td>\n",
              "      <td>1.000000</td>\n",
              "      <td>1000.000000</td>\n",
              "      <td>2.000000</td>\n",
              "    </tr>\n",
              "  </tbody>\n",
              "</table>\n",
              "</div>"
            ],
            "text/plain": [
              "               VAR2          VAR3  ...         VAR20         VAR21\n",
              "count  33727.000000  33727.000000  ...  33727.000000  33727.000000\n",
              "mean     917.651682      1.121313  ...    161.305506      0.755715\n",
              "std       49.340173     12.106748  ...    123.234182      0.636240\n",
              "min      730.588235      0.001333  ...      0.000000      0.000000\n",
              "25%      883.529412      0.083333  ...    104.367470      0.000000\n",
              "50%      922.352941      0.200000  ...    117.466437      1.000000\n",
              "75%      956.470588      0.833333  ...    159.376936      1.000000\n",
              "max     1000.000000   1000.000000  ...   1000.000000      2.000000\n",
              "\n",
              "[8 rows x 19 columns]"
            ]
          },
          "metadata": {
            "tags": []
          },
          "execution_count": 10
        }
      ]
    },
    {
      "cell_type": "code",
      "metadata": {
        "colab": {
          "base_uri": "https://localhost:8080/"
        },
        "id": "bNrZMLRoD-no",
        "outputId": "6619aaa1-d0fa-4e50-96d3-732f7b4972df"
      },
      "source": [
        "print(\"No. of variables:\" , len(train_df.columns))\n",
        "print(\"No. of records:\" , len(train_df.index))"
      ],
      "execution_count": null,
      "outputs": [
        {
          "output_type": "stream",
          "text": [
            "No. of variables: 20\n",
            "No. of records: 33727\n"
          ],
          "name": "stdout"
        }
      ]
    },
    {
      "cell_type": "code",
      "metadata": {
        "colab": {
          "base_uri": "https://localhost:8080/"
        },
        "id": "SdsKnr_gEF-F",
        "outputId": "c09248ef-9011-488d-f50d-cb420a6fec6e"
      },
      "source": [
        "print(\"Variable Data Types: \")\n",
        "train_df.dtypes"
      ],
      "execution_count": null,
      "outputs": [
        {
          "output_type": "stream",
          "text": [
            "Variable Data Types: \n"
          ],
          "name": "stdout"
        },
        {
          "output_type": "execute_result",
          "data": {
            "text/plain": [
              "VAR2     float64\n",
              "VAR3     float64\n",
              "VAR4     float64\n",
              "VAR5     float64\n",
              "VAR6     float64\n",
              "VAR7     float64\n",
              "VAR8     float64\n",
              "VAR9     float64\n",
              "VAR10    float64\n",
              "VAR11    float64\n",
              "VAR12    float64\n",
              "VAR13    float64\n",
              "VAR14     object\n",
              "VAR15    float64\n",
              "VAR16    float64\n",
              "VAR17    float64\n",
              "VAR18      int64\n",
              "VAR19      int64\n",
              "VAR20    float64\n",
              "VAR21      int64\n",
              "dtype: object"
            ]
          },
          "metadata": {
            "tags": []
          },
          "execution_count": 12
        }
      ]
    },
    {
      "cell_type": "code",
      "metadata": {
        "colab": {
          "base_uri": "https://localhost:8080/"
        },
        "id": "YvV7CMj1ExPr",
        "outputId": "a4287829-4786-42e0-8d77-5e48459b670e"
      },
      "source": [
        "train_df['Null_Count']=train_df.isnull().sum(axis=1)\n",
        "print(\"Number of records with no missing values:\", train_df.loc[train_df.Null_Count < 1].shape[0])"
      ],
      "execution_count": null,
      "outputs": [
        {
          "output_type": "stream",
          "text": [
            "Number of records with no missing values: 33727\n"
          ],
          "name": "stdout"
        }
      ]
    },
    {
      "cell_type": "code",
      "metadata": {
        "colab": {
          "base_uri": "https://localhost:8080/"
        },
        "id": "-IJA3aQ1CRE-",
        "outputId": "3d2258c8-de9f-401f-fc14-f1b606ddb179"
      },
      "source": [
        "plt.title('Data in each credit line')\n",
        "sns.countplot(x='VAR21' , data=train_df )\n",
        "plt.ylabel('Data in each credit line')\n",
        "plt.grid(alpha=0.3)\n",
        "plt.show()"
      ],
      "execution_count": null,
      "outputs": [
        {
          "output_type": "display_data",
          "data": {
            "image/png": "[encoded data removed]",
            "text/plain": [
              "<Figure size 432x288 with 1 Axes>"
            ]
          },
          "metadata": {
            "tags": [],
            "needs_background": "light"
          }
        }
      ]
    },
    {
      "cell_type": "code",
      "metadata": {
        "id": "NnY-WtbwF9Sb"
      },
      "source": [
        "a=train_df.corr()\n",
        "a['VAR21']\n",
        "plt.figure(figsize=(15,15))\n",
        "plt.title('Correlation of Train_Set')\n",
        "sns.heatmap(a , annot=True)\n",
        "plt.show()"
      ],
      "execution_count": null,
      "outputs": []
    },
    {
      "cell_type": "markdown",
      "metadata": {
        "id": "XxwjUJSAfQmS"
      },
      "source": [
        "# **ML**"
      ]
    },
    {
      "cell_type": "markdown",
      "metadata": {
        "id": "NF8krB2HIp3i"
      },
      "source": [
        "## Data Preprocessing"
      ]
    },
    {
      "cell_type": "markdown",
      "metadata": {
        "id": "mdybjPOXQbuS"
      },
      "source": [
        "**Separating Variable Sets**"
      ]
    },
    {
      "cell_type": "code",
      "metadata": {
        "id": "742zFtjrfXw9"
      },
      "source": [
        "#Separating Variable Sets\n",
        "y= train_df['VAR21']\n",
        "X= train_df.drop('VAR21', axis=1)"
      ],
      "execution_count": null,
      "outputs": []
    },
    {
      "cell_type": "markdown",
      "metadata": {
        "id": "AbAwvcehRtwW"
      },
      "source": [
        "**Training and Testing Data Split (80:20)**\n",
        "\n",
        "\n",
        "> *Along with Data Shuffling*\n",
        "\n"
      ]
    },
    {
      "cell_type": "code",
      "metadata": {
        "id": "31fhdkAS9l9q"
      },
      "source": [
        "from sklearn.model_selection import train_test_split\n",
        "X_train, X_test, y_train, y_test = train_test_split(X,y,test_size=0.2,random_state=1)"
      ],
      "execution_count": null,
      "outputs": []
    },
    {
      "cell_type": "markdown",
      "metadata": {
        "id": "L6a8VDCykNij"
      },
      "source": [
        "**Feature Normalization (useful for kNN / Neural Networks)**"
      ]
    },
    {
      "cell_type": "code",
      "metadata": {
        "id": "nBDVBm_nkMcs"
      },
      "source": [
        "# Feature normalization\n",
        "from sklearn.preprocessing import StandardScaler\n",
        "scaler = StandardScaler()\n",
        "scaler.fit(X_train)\n",
        "X_train = scaler.transform(X_train)\n",
        "X_test = scaler.transform(X_test)"
      ],
      "execution_count": null,
      "outputs": []
    },
    {
      "cell_type": "markdown",
      "metadata": {
        "id": "C2ZlCFbQR3oP"
      },
      "source": [
        "## Over Sampling"
      ]
    },
    {
      "cell_type": "markdown",
      "metadata": {
        "id": "nRUWB_ra51EU"
      },
      "source": [
        "**Over-Sampling using SMOTE to counteract Unbalanced Data**"
      ]
    },
    {
      "cell_type": "code",
      "metadata": {
        "colab": {
          "base_uri": "https://localhost:8080/"
        },
        "id": "nlVf4Hmz50MF",
        "outputId": "fbbfff48-e58e-47a8-fc02-426e82a99b7e"
      },
      "source": [
        "print(\"Before OverSampling, counts of label '0': {}\".format(sum(y_train == 0)))\n",
        "print(\"Before OverSampling, counts of label '1: {} \\n\".format(sum(y_train == 1)))\n",
        "print(\"Before OverSampling, counts of label '2: {} \\n\".format(sum(y_train == 2)))"
      ],
      "execution_count": null,
      "outputs": [
        {
          "output_type": "stream",
          "text": [
            "Before OverSampling, counts of label '0': 9527\n",
            "Before OverSampling, counts of label '1: 14445 \n",
            "\n",
            "Before OverSampling, counts of label '2: 3009 \n",
            "\n"
          ],
          "name": "stdout"
        }
      ]
    },
    {
      "cell_type": "code",
      "metadata": {
        "colab": {
          "base_uri": "https://localhost:8080/"
        },
        "id": "MQC6ADIg9nIH",
        "outputId": "e0c42a07-96b7-4ed2-d5c3-731db6806550"
      },
      "source": [
        "# import SMOTE module from imblearn library\n",
        "\n",
        "from imblearn.over_sampling import SMOTE\n",
        "sm = SMOTE(random_state = 2)\n",
        "X_train_res, y_train_res = sm.fit_sample(X_train, y_train.ravel())\n",
        "  \n",
        "print('After OverSampling, the shape of train_X: {}'.format(X_train_res.shape))\n",
        "print('After OverSampling, the shape of train_y: {} \\n'.format(y_train_res.shape))\n",
        "  \n",
        "print(\"After OverSampling, counts of label '0': {}\".format(sum(y_train_res == 0)))\n",
        "print(\"After OverSampling, counts of label '1': {}\".format(sum(y_train_res == 1)))\n",
        "print(\"After OverSampling, counts of label '2': {}\".format(sum(y_train_res == 2)))"
      ],
      "execution_count": null,
      "outputs": [
        {
          "output_type": "stream",
          "text": [
            "/usr/local/lib/python3.7/dist-packages/sklearn/utils/deprecation.py:87: FutureWarning: Function safe_indexing is deprecated; safe_indexing is deprecated in version 0.22 and will be removed in version 0.24.\n",
            "  warnings.warn(msg, category=FutureWarning)\n",
            "/usr/local/lib/python3.7/dist-packages/sklearn/utils/deprecation.py:87: FutureWarning: Function safe_indexing is deprecated; safe_indexing is deprecated in version 0.22 and will be removed in version 0.24.\n",
            "  warnings.warn(msg, category=FutureWarning)\n"
          ],
          "name": "stderr"
        },
        {
          "output_type": "stream",
          "text": [
            "After OverSampling, the shape of train_X: (43335, 20)\n",
            "After OverSampling, the shape of train_y: (43335,) \n",
            "\n",
            "After OverSampling, counts of label '0': 14445\n",
            "After OverSampling, counts of label '1': 14445\n",
            "After OverSampling, counts of label '2': 14445\n"
          ],
          "name": "stdout"
        }
      ]
    },
    {
      "cell_type": "markdown",
      "metadata": {
        "id": "j6mOcHjQR_8f"
      },
      "source": [
        "## Under Sampling"
      ]
    },
    {
      "cell_type": "markdown",
      "metadata": {
        "id": "a6aGZEgxRzlC"
      },
      "source": [
        "**Under-Sampling using NearMiss to counteract Unbalanced Data**"
      ]
    },
    {
      "cell_type": "code",
      "metadata": {
        "colab": {
          "base_uri": "https://localhost:8080/"
        },
        "id": "2vgdhdX-RzlD",
        "outputId": "aa8decb3-c0a3-4dac-8372-0febee17a172"
      },
      "source": [
        "print(\"Before OverSampling, counts of label '0': {}\".format(sum(y_train == 0)))\n",
        "print(\"Before OverSampling, counts of label '1: {} \\n\".format(sum(y_train == 1)))\n",
        "print(\"Before OverSampling, counts of label '2: {} \\n\".format(sum(y_train == 2)))"
      ],
      "execution_count": null,
      "outputs": [
        {
          "output_type": "stream",
          "text": [
            "Before OverSampling, counts of label '0': 9527\n",
            "Before OverSampling, counts of label '1: 14445 \n",
            "\n",
            "Before OverSampling, counts of label '2: 3009 \n",
            "\n"
          ],
          "name": "stdout"
        }
      ]
    },
    {
      "cell_type": "code",
      "metadata": {
        "colab": {
          "base_uri": "https://localhost:8080/"
        },
        "id": "bQrgVNjXRzlE",
        "outputId": "f1a0fe07-27d2-41b1-85e0-8ebde1e19231"
      },
      "source": [
        "# apply near miss\n",
        "from imblearn.under_sampling import NearMiss\n",
        "nr = NearMiss()\n",
        "  \n",
        "X_train_miss, y_train_miss = nr.fit_sample(X_train, y_train.ravel())\n",
        "  \n",
        "print('After OverSampling, the shape of train_X: {}'.format(X_train_miss.shape))\n",
        "print('After OverSampling, the shape of train_y: {} \\n'.format(y_train_miss.shape))\n",
        "  \n",
        "print(\"After OverSampling, counts of label '0': {}\".format(sum(y_train_miss == 0)))\n",
        "print(\"After OverSampling, counts of label '1': {}\".format(sum(y_train_miss == 1)))\n",
        "print(\"After OverSampling, counts of label '2': {}\".format(sum(y_train_miss == 2)))"
      ],
      "execution_count": null,
      "outputs": [
        {
          "output_type": "stream",
          "text": [
            "/usr/local/lib/python3.7/dist-packages/sklearn/utils/deprecation.py:87: FutureWarning: Function safe_indexing is deprecated; safe_indexing is deprecated in version 0.22 and will be removed in version 0.24.\n",
            "  warnings.warn(msg, category=FutureWarning)\n",
            "/usr/local/lib/python3.7/dist-packages/sklearn/utils/deprecation.py:87: FutureWarning: Function safe_indexing is deprecated; safe_indexing is deprecated in version 0.22 and will be removed in version 0.24.\n",
            "  warnings.warn(msg, category=FutureWarning)\n",
            "/usr/local/lib/python3.7/dist-packages/sklearn/utils/deprecation.py:87: FutureWarning: Function safe_indexing is deprecated; safe_indexing is deprecated in version 0.22 and will be removed in version 0.24.\n",
            "  warnings.warn(msg, category=FutureWarning)\n"
          ],
          "name": "stderr"
        },
        {
          "output_type": "stream",
          "text": [
            "After OverSampling, the shape of train_X: (9027, 20)\n",
            "After OverSampling, the shape of train_y: (9027,) \n",
            "\n",
            "After OverSampling, counts of label '0': 3009\n",
            "After OverSampling, counts of label '1': 3009\n",
            "After OverSampling, counts of label '2': 3009\n"
          ],
          "name": "stdout"
        },
        {
          "output_type": "stream",
          "text": [
            "/usr/local/lib/python3.7/dist-packages/sklearn/utils/deprecation.py:87: FutureWarning: Function safe_indexing is deprecated; safe_indexing is deprecated in version 0.22 and will be removed in version 0.24.\n",
            "  warnings.warn(msg, category=FutureWarning)\n"
          ],
          "name": "stderr"
        }
      ]
    },
    {
      "cell_type": "markdown",
      "metadata": {
        "id": "ylSHZgBOVMQC"
      },
      "source": [
        "## SVM Classifier"
      ]
    },
    {
      "cell_type": "markdown",
      "metadata": {
        "id": "bZ6Nxjjty06O"
      },
      "source": [
        "**Oversampling** *(using x_train_res / y_train_res)*"
      ]
    },
    {
      "cell_type": "code",
      "metadata": {
        "id": "r6DgXbToS0aI",
        "colab": {
          "base_uri": "https://localhost:8080/"
        },
        "outputId": "f05a9827-f29a-4856-e7f1-62a9acc8adbe"
      },
      "source": [
        "from sklearn import svm\n",
        "clf = svm.SVC(kernel='linear')\n",
        "\n",
        "clf.fit(X_train_res, y_train_res.ravel())\n",
        "\n",
        "from sklearn.metrics import accuracy_score\n",
        "y_pred = clf.predict(X_test)\n",
        "\n",
        "print(np.around(accuracy_score(y_test,y_pred)*100,2))\n",
        "\n",
        "from sklearn.metrics import classification_report\n",
        "print(classification_report(y_test, y_pred))"
      ],
      "execution_count": null,
      "outputs": [
        {
          "output_type": "stream",
          "text": [
            "46.92\n",
            "              precision    recall  f1-score   support\n",
            "\n",
            "           0       0.44      0.50      0.47      2425\n",
            "           1       0.60      0.50      0.54      3617\n",
            "           2       0.15      0.21      0.18       704\n",
            "\n",
            "    accuracy                           0.47      6746\n",
            "   macro avg       0.40      0.40      0.40      6746\n",
            "weighted avg       0.50      0.47      0.48      6746\n",
            "\n"
          ],
          "name": "stdout"
        }
      ]
    },
    {
      "cell_type": "markdown",
      "metadata": {
        "id": "MPuxnhsRzGlc"
      },
      "source": [
        "**Undersampling** *(using x_train_miss / y_train_miss)*"
      ]
    },
    {
      "cell_type": "code",
      "metadata": {
        "colab": {
          "base_uri": "https://localhost:8080/"
        },
        "id": "i0TXumeaSbPM",
        "outputId": "8ea33425-74a7-465c-ecea-4d26d6113c4a"
      },
      "source": [
        "from sklearn import svm\n",
        "clf = svm.SVC(kernel='linear')\n",
        "\n",
        "clf.fit(X_train_miss, y_train_miss.ravel())\n",
        "\n",
        "from sklearn.metrics import accuracy_score\n",
        "y_pred = clf.predict(X_test)\n",
        "print(np.around(accuracy_score(y_test,y_pred)*100,2))\n",
        "\n",
        "from sklearn.metrics import classification_report\n",
        "print(classification_report(y_test, y_pred))"
      ],
      "execution_count": null,
      "outputs": [
        {
          "output_type": "stream",
          "text": [
            "31.38\n",
            "              precision    recall  f1-score   support\n",
            "\n",
            "           0       0.41      0.27      0.33      2425\n",
            "           1       0.62      0.28      0.38      3617\n",
            "           2       0.13      0.64      0.22       704\n",
            "\n",
            "    accuracy                           0.31      6746\n",
            "   macro avg       0.38      0.40      0.31      6746\n",
            "weighted avg       0.49      0.31      0.35      6746\n",
            "\n"
          ],
          "name": "stdout"
        }
      ]
    },
    {
      "cell_type": "markdown",
      "metadata": {
        "id": "eGjhB1VKzNCK"
      },
      "source": [
        "**Original Data** *(using x_train / y_train)*"
      ]
    },
    {
      "cell_type": "code",
      "metadata": {
        "colab": {
          "base_uri": "https://localhost:8080/"
        },
        "id": "AHTjp_ZOzQXj",
        "outputId": "3e98690f-06ef-4d23-a40d-8a71185b7910"
      },
      "source": [
        "from sklearn import svm\n",
        "clf = svm.SVC(kernel='linear')\n",
        "\n",
        "clf.fit(X_train, y_train.ravel())\n",
        "\n",
        "from sklearn.metrics import accuracy_score\n",
        "y_pred = clf.predict(X_test)\n",
        "print(np.around(accuracy_score(y_test,y_pred)*100,2))\n",
        "\n",
        "from sklearn.metrics import classification_report\n",
        "print(classification_report(y_test, y_pred))"
      ],
      "execution_count": null,
      "outputs": [
        {
          "output_type": "stream",
          "text": [
            "53.62\n",
            "              precision    recall  f1-score   support\n",
            "\n",
            "           0       0.00      0.00      0.00      2425\n",
            "           1       0.54      1.00      0.70      3617\n",
            "           2       0.00      0.00      0.00       704\n",
            "\n",
            "    accuracy                           0.54      6746\n",
            "   macro avg       0.18      0.33      0.23      6746\n",
            "weighted avg       0.29      0.54      0.37      6746\n",
            "\n"
          ],
          "name": "stdout"
        },
        {
          "output_type": "stream",
          "text": [
            "/usr/local/lib/python3.7/dist-packages/sklearn/metrics/_classification.py:1272: UndefinedMetricWarning: Precision and F-score are ill-defined and being set to 0.0 in labels with no predicted samples. Use `zero_division` parameter to control this behavior.\n",
            "  _warn_prf(average, modifier, msg_start, len(result))\n"
          ],
          "name": "stderr"
        }
      ]
    },
    {
      "cell_type": "code",
      "metadata": {
        "colab": {
          "base_uri": "https://localhost:8080/",
          "height": 325
        },
        "id": "19tAnIXiBOT2",
        "outputId": "31f5e1d2-7bf4-4f9d-ffae-04d1f4c8c611"
      },
      "source": [
        "from sklearn.metrics import confusion_matrix\n",
        "cnf_matrix = confusion_matrix(y_test, y_pred)\n",
        "\n",
        "class_names=[0,1,2] # name  of classes\n",
        "fig, ax = plt.subplots()\n",
        "tick_marks = np.arange(len(class_names))\n",
        "\n",
        "plt.xticks(tick_marks, class_names)\n",
        "plt.yticks(tick_marks, class_names)\n",
        "\n",
        "# create heatmap\n",
        "sns.heatmap(pd.DataFrame(cnf_matrix), annot=True, cmap=\"YlGnBu\" , fmt='g')\n",
        "ax.xaxis.set_label_position(\"top\")\n",
        "\n",
        "plt.tight_layout()\n",
        "plt.title('Confusion matrix', y=1.1)\n",
        "plt.ylabel('Actual label')\n",
        "plt.xlabel('Predicted label')\n",
        "\n",
        "plt.show()"
      ],
      "execution_count": null,
      "outputs": [
        {
          "output_type": "display_data",
          "data": {
            "image/png": "[encoded data removed]",
            "text/plain": [
              "<Figure size 432x288 with 2 Axes>"
            ]
          },
          "metadata": {
            "tags": [],
            "needs_background": "light"
          }
        }
      ]
    },
    {
      "cell_type": "markdown",
      "metadata": {
        "id": "fgPbCxzoUx9n"
      },
      "source": [
        "## kNN Classifier"
      ]
    },
    {
      "cell_type": "markdown",
      "metadata": {
        "id": "gSoH5OsZ0XjO"
      },
      "source": [
        "**Oversampling** *(using x_train_res / y_train_res)*"
      ]
    },
    {
      "cell_type": "code",
      "metadata": {
        "colab": {
          "base_uri": "https://localhost:8080/"
        },
        "id": "x9PDrajKU56O",
        "outputId": "e5f68221-ca50-403f-87b5-a1cc7d530116"
      },
      "source": [
        "# training a KNN classifier\n",
        "from sklearn.neighbors import KNeighborsClassifier\n",
        "knn = KNeighborsClassifier(n_neighbors = 7).fit(X_train_res, y_train_res.ravel())\n",
        "  \n",
        "# accuracy on X_test\n",
        "accuracy = knn.score(X_test, y_test)\n",
        "print (np.around(accuracy*100,2))"
      ],
      "execution_count": null,
      "outputs": [
        {
          "output_type": "stream",
          "text": [
            "38.62\n"
          ],
          "name": "stdout"
        }
      ]
    },
    {
      "cell_type": "markdown",
      "metadata": {
        "id": "VVZWcm4H1dOR"
      },
      "source": [
        "**Undersampling** *(using x_train_miss / y_train_miss)*"
      ]
    },
    {
      "cell_type": "code",
      "metadata": {
        "colab": {
          "base_uri": "https://localhost:8080/"
        },
        "id": "DOO4Qgta1dOV",
        "outputId": "6782dbce-dd4b-4069-ff6d-c78f0243085e"
      },
      "source": [
        "# training a KNN classifier\n",
        "from sklearn.neighbors import KNeighborsClassifier\n",
        "knn = KNeighborsClassifier(n_neighbors = 7).fit(X_train_miss, y_train_miss.ravel())\n",
        "  \n",
        "# accuracy on X_test\n",
        "accuracy = knn.score(X_test, y_test)\n",
        "print (np.around(accuracy*100,2))"
      ],
      "execution_count": null,
      "outputs": [
        {
          "output_type": "stream",
          "text": [
            "32.11\n"
          ],
          "name": "stdout"
        }
      ]
    },
    {
      "cell_type": "markdown",
      "metadata": {
        "id": "2TQBgdvj1deb"
      },
      "source": [
        "**Original Data** *(using x_train / y_train)*"
      ]
    },
    {
      "cell_type": "code",
      "metadata": {
        "colab": {
          "base_uri": "https://localhost:8080/"
        },
        "id": "J8EKQ-l21dec",
        "outputId": "03e44206-1f0e-4d12-de1a-6487af2c0745"
      },
      "source": [
        "# training a KNN classifier\n",
        "from sklearn.neighbors import KNeighborsClassifier\n",
        "knn = KNeighborsClassifier(n_neighbors = 7).fit(X_train, y_train.ravel())\n",
        "  \n",
        "# accuracy on X_test\n",
        "accuracy = knn.score(X_test, y_test)\n",
        "print (np.around(accuracy*100,2))"
      ],
      "execution_count": null,
      "outputs": [
        {
          "output_type": "stream",
          "text": [
            "50.93\n"
          ],
          "name": "stdout"
        }
      ]
    },
    {
      "cell_type": "code",
      "metadata": {
        "id": "7b317sNZ1dec"
      },
      "source": [
        "# line graph plot\n",
        "def simple_line_plot(y_values, x_values, title, xtitle, ytitle):\n",
        "    \"\"\"Plots a lineplot for given data.\"\"\"\n",
        "    plt.figure(figsize=(10,5))\n",
        "    plt.plot(x_values, y_values, marker='o')\n",
        "    plt.title(title)\n",
        "    plt.xlabel(xtitle)\n",
        "    plt.ylabel(ytitle)\n",
        "    plt.show()"
      ],
      "execution_count": null,
      "outputs": []
    },
    {
      "cell_type": "code",
      "metadata": {
        "colab": {
          "base_uri": "https://localhost:8080/",
          "height": 368
        },
        "id": "JdMOi_vW1dec",
        "outputId": "33f8603c-fac3-4df4-efbb-54233e3d3560"
      },
      "source": [
        "# testing out performance of the KNN algorithm for different values of K\n",
        "accuracies = []\n",
        "\n",
        "K_vals = list(range(1, 20))\n",
        "\n",
        "for k in K_vals:\n",
        "    knn = KNeighborsClassifier(n_neighbors=k)\n",
        "    knn.fit(X_train, y_train.ravel())\n",
        "    pred_i = knn.predict(X_test)\n",
        "    accuracies.append((1-np.mean(pred_i != y_test))*100)\n",
        "    \n",
        "simple_line_plot(accuracies, K_vals, 'Model Accuracy vs K', \n",
        "                'K', 'Accuracy (%)')\n",
        "\n",
        "accuracies=np.array(accuracies)\n",
        "\n",
        "print(\"The model achieves greater than 50% Test accuracy for K =\", list(np.where(accuracies>=50)[0]))"
      ],
      "execution_count": null,
      "outputs": [
        {
          "output_type": "display_data",
          "data": {
            "image/png": "[encoded data removed]",
            "text/plain": [
              "<Figure size 720x360 with 1 Axes>"
            ]
          },
          "metadata": {
            "tags": [],
            "needs_background": "light"
          }
        },
        {
          "output_type": "stream",
          "text": [
            "The model achieves greater than 50% Test accuracy for K = [5, 6, 7, 8, 9, 10, 11, 12, 13, 14, 15, 16, 17, 18]\n"
          ],
          "name": "stdout"
        }
      ]
    },
    {
      "cell_type": "markdown",
      "metadata": {
        "id": "GgoSwETjlFr9"
      },
      "source": [
        "## Neural Networks (MLP Algorithm)"
      ]
    },
    {
      "cell_type": "code",
      "metadata": {
        "id": "NVu-q4pPlIek"
      },
      "source": [
        "#Importing MLPClassifier\n",
        "from sklearn.neural_network import MLPClassifier\n",
        "\n",
        "#Initializing the MLPClassifier\n",
        "classifier = MLPClassifier(hidden_layer_sizes=(150, 100, 50), max_iter = 300, activation = 'relu',solver='adam',random_state=1)"
      ],
      "execution_count": null,
      "outputs": []
    },
    {
      "cell_type": "markdown",
      "metadata": {
        "id": "kiNUHby518ue"
      },
      "source": [
        "**Oversampling** *(using x_train_res / y_train_res)*"
      ]
    },
    {
      "cell_type": "code",
      "metadata": {
        "id": "lInlaEPFs6mg"
      },
      "source": [
        "classifier.fit(X_train_res, y_train_res.ravel())\n",
        "#Predicting y for X_val\n",
        "y_pred = classifier.predict(X_test)"
      ],
      "execution_count": null,
      "outputs": []
    },
    {
      "cell_type": "code",
      "metadata": {
        "colab": {
          "base_uri": "https://localhost:8080/"
        },
        "id": "ppVq9fje2dp5",
        "outputId": "ee6b4d93-d665-4235-a74b-d7784ec6d99e"
      },
      "source": [
        "def accuracy(confusion_matrix):\n",
        "   diagonal_sum = confusion_matrix.trace()\n",
        "   sum_of_all_elements = confusion_matrix.sum()\n",
        "   return diagonal_sum / sum_of_all_elements\n",
        "\n",
        "#Importing Confusion Matrix\n",
        "from sklearn.metrics import confusion_matrix\n",
        "#Comparing the predictions against the actual observations in y_val\n",
        "cm = confusion_matrix(y_pred, y_test)\n",
        "\n",
        "#Printing the accuracy\n",
        "print(\"Accuracy of MLPClassifier : \", np.around(accuracy(cm)*100, 2))"
      ],
      "execution_count": null,
      "outputs": [
        {
          "output_type": "stream",
          "text": [
            "Accuracy of MLPClassifier :  44.17\n"
          ],
          "name": "stdout"
        }
      ]
    },
    {
      "cell_type": "markdown",
      "metadata": {
        "id": "O6-7eHyB2HEp"
      },
      "source": [
        "**Undersampling** *(using x_train_miss / y_train_miss)*"
      ]
    },
    {
      "cell_type": "code",
      "metadata": {
        "id": "3d8l-PjY2HEq"
      },
      "source": [
        "classifier.fit(X_train_miss, y_train_miss.ravel())\n",
        "#Predicting y for X_val\n",
        "y_pred = classifier.predict(X_test)"
      ],
      "execution_count": null,
      "outputs": []
    },
    {
      "cell_type": "code",
      "metadata": {
        "colab": {
          "base_uri": "https://localhost:8080/"
        },
        "id": "15DOG0Sv2eIX",
        "outputId": "ee2ea11d-5c52-455e-f0e5-87ab75da112c"
      },
      "source": [
        "def accuracy(confusion_matrix):\n",
        "   diagonal_sum = confusion_matrix.trace()\n",
        "   sum_of_all_elements = confusion_matrix.sum()\n",
        "   return diagonal_sum / sum_of_all_elements\n",
        "\n",
        "#Importing Confusion Matrix\n",
        "from sklearn.metrics import confusion_matrix\n",
        "#Comparing the predictions against the actual observations in y_val\n",
        "cm = confusion_matrix(y_pred, y_test)\n",
        "\n",
        "#Printing the accuracy\n",
        "print(\"Accuracy of MLPClassifier : \", np.around(accuracy(cm)*100, 2))"
      ],
      "execution_count": null,
      "outputs": [
        {
          "output_type": "stream",
          "text": [
            "Accuracy of MLPClassifier :  24.03\n"
          ],
          "name": "stdout"
        }
      ]
    },
    {
      "cell_type": "markdown",
      "metadata": {
        "id": "3vuBvxeW2QGi"
      },
      "source": [
        "**Original Data** *(using x_train / y_train)*"
      ]
    },
    {
      "cell_type": "code",
      "metadata": {
        "id": "4rchB2mM2HNo"
      },
      "source": [
        "classifier.fit(X_train, y_train.ravel())\n",
        "#Predicting y for X_val\n",
        "y_pred = classifier.predict(X_test)"
      ],
      "execution_count": null,
      "outputs": []
    },
    {
      "cell_type": "code",
      "metadata": {
        "id": "w91LL3o9s-xH",
        "colab": {
          "base_uri": "https://localhost:8080/"
        },
        "outputId": "56f5cf77-9b80-4641-ad2c-340a362aea6b"
      },
      "source": [
        "def accuracy(confusion_matrix):\n",
        "   diagonal_sum = confusion_matrix.trace()\n",
        "   sum_of_all_elements = confusion_matrix.sum()\n",
        "   return diagonal_sum / sum_of_all_elements\n",
        "\n",
        "#Importing Confusion Matrix\n",
        "from sklearn.metrics import confusion_matrix\n",
        "#Comparing the predictions against the actual observations in y_val\n",
        "cm = confusion_matrix(y_pred, y_test)\n",
        "\n",
        "#Printing the accuracy\n",
        "print(\"Accuracy of MLPClassifier : \", np.around(accuracy(cm)*100, 2))"
      ],
      "execution_count": null,
      "outputs": [
        {
          "output_type": "stream",
          "text": [
            "Accuracy of MLPClassifier :  49.08\n"
          ],
          "name": "stdout"
        }
      ]
    },
    {
      "cell_type": "code",
      "metadata": {
        "id": "IFuYOUVSRcCh",
        "colab": {
          "base_uri": "https://localhost:8080/",
          "height": 325
        },
        "outputId": "061ac587-7916-4004-bde1-97f5bfdf6936"
      },
      "source": [
        "from sklearn.metrics import confusion_matrix\n",
        "cnf_matrix = confusion_matrix(y_test, y_pred)\n",
        "\n",
        "class_names=[0,1,2] # name  of classes\n",
        "fig, ax = plt.subplots()\n",
        "tick_marks = np.arange(len(class_names))\n",
        "\n",
        "plt.xticks(tick_marks, class_names)\n",
        "plt.yticks(tick_marks, class_names)\n",
        "\n",
        "# create heatmap\n",
        "sns.heatmap(pd.DataFrame(cnf_matrix), annot=True, cmap=\"YlGnBu\" , fmt='g')\n",
        "ax.xaxis.set_label_position(\"top\")\n",
        "\n",
        "plt.tight_layout()\n",
        "plt.title('Confusion matrix', y=1.1)\n",
        "plt.ylabel('Actual label')\n",
        "plt.xlabel('Predicted label')\n",
        "\n",
        "plt.show()"
      ],
      "execution_count": null,
      "outputs": [
        {
          "output_type": "display_data",
          "data": {
            "image/png": "[encoded data removed]",
            "text/plain": [
              "<Figure size 432x288 with 2 Axes>"
            ]
          },
          "metadata": {
            "tags": [],
            "needs_background": "light"
          }
        }
      ]
    },
    {
      "cell_type": "markdown",
      "metadata": {
        "id": "swAmOvDdANPr"
      },
      "source": [
        ""
      ]
    },
    {
      "cell_type": "markdown",
      "metadata": {
        "id": "6DBulgB9D8Da"
      },
      "source": [
        "# **Feature Selection**"
      ]
    },
    {
      "cell_type": "markdown",
      "metadata": {
        "id": "2EXgXiw_W75R"
      },
      "source": [
        "***Using Random Forrest Classifier***\n",
        "\n",
        "---\n",
        "\n"
      ]
    },
    {
      "cell_type": "code",
      "metadata": {
        "id": "AcwwDI8Ka33I"
      },
      "source": [
        "from sklearn.feature_selection import SelectFromModel\n",
        "from sklearn.ensemble import RandomForestClassifier"
      ],
      "execution_count": null,
      "outputs": []
    },
    {
      "cell_type": "code",
      "metadata": {
        "id": "YGwCx4_iE1Xk"
      },
      "source": [
        "# Creating a Random Forest Classifier\n",
        "clf = RandomForestClassifier(n_estimators=1000, random_state=0, n_jobs=-1)\n",
        "\n",
        "# Training the classifier\n",
        "clf.fit(X_train_res, y_train_res.ravel())\n",
        "\n",
        "feat_labels = list(train_df.columns)\n",
        "\n",
        "# Name and (Gini) Importance of each feature\n",
        "for feature in zip(feat_labels, clf.feature_importances_):\n",
        "    print(feature)"
      ],
      "execution_count": null,
      "outputs": []
    },
    {
      "cell_type": "code",
      "metadata": {
        "colab": {
          "base_uri": "https://localhost:8080/",
          "height": 604
        },
        "id": "bwoLjjemGKWC",
        "outputId": "bf6eb0b8-9a08-4760-91c3-db2a4964051f"
      },
      "source": [
        "df_feat = pd.DataFrame(list(zip(feat_labels, clf.feature_importances_)),\n",
        "               columns =['Feature', 'Importance'])\n",
        "df_feat.drop(19)"
      ],
      "execution_count": null,
      "outputs": [
        {
          "output_type": "execute_result",
          "data": {
            "text/html": [
              "<div>\n",
              "<style scoped>\n",
              "    .dataframe tbody tr th:only-of-type {\n",
              "        vertical-align: middle;\n",
              "    }\n",
              "\n",
              "    .dataframe tbody tr th {\n",
              "        vertical-align: top;\n",
              "    }\n",
              "\n",
              "    .dataframe thead th {\n",
              "        text-align: right;\n",
              "    }\n",
              "</style>\n",
              "<table border=\"1\" class=\"dataframe\">\n",
              "  <thead>\n",
              "    <tr style=\"text-align: right;\">\n",
              "      <th></th>\n",
              "      <th>Feature</th>\n",
              "      <th>Importance</th>\n",
              "    </tr>\n",
              "  </thead>\n",
              "  <tbody>\n",
              "    <tr>\n",
              "      <th>0</th>\n",
              "      <td>VAR2</td>\n",
              "      <td>0.073944</td>\n",
              "    </tr>\n",
              "    <tr>\n",
              "      <th>1</th>\n",
              "      <td>VAR3</td>\n",
              "      <td>0.088743</td>\n",
              "    </tr>\n",
              "    <tr>\n",
              "      <th>2</th>\n",
              "      <td>VAR4</td>\n",
              "      <td>0.057558</td>\n",
              "    </tr>\n",
              "    <tr>\n",
              "      <th>3</th>\n",
              "      <td>VAR5</td>\n",
              "      <td>0.055625</td>\n",
              "    </tr>\n",
              "    <tr>\n",
              "      <th>4</th>\n",
              "      <td>VAR6</td>\n",
              "      <td>0.065748</td>\n",
              "    </tr>\n",
              "    <tr>\n",
              "      <th>5</th>\n",
              "      <td>VAR7</td>\n",
              "      <td>0.061074</td>\n",
              "    </tr>\n",
              "    <tr>\n",
              "      <th>6</th>\n",
              "      <td>VAR8</td>\n",
              "      <td>0.060669</td>\n",
              "    </tr>\n",
              "    <tr>\n",
              "      <th>7</th>\n",
              "      <td>VAR9</td>\n",
              "      <td>0.046831</td>\n",
              "    </tr>\n",
              "    <tr>\n",
              "      <th>8</th>\n",
              "      <td>VAR10</td>\n",
              "      <td>0.021598</td>\n",
              "    </tr>\n",
              "    <tr>\n",
              "      <th>9</th>\n",
              "      <td>VAR11</td>\n",
              "      <td>0.062291</td>\n",
              "    </tr>\n",
              "    <tr>\n",
              "      <th>10</th>\n",
              "      <td>VAR12</td>\n",
              "      <td>0.061525</td>\n",
              "    </tr>\n",
              "    <tr>\n",
              "      <th>11</th>\n",
              "      <td>VAR13</td>\n",
              "      <td>0.055134</td>\n",
              "    </tr>\n",
              "    <tr>\n",
              "      <th>12</th>\n",
              "      <td>VAR14</td>\n",
              "      <td>0.027536</td>\n",
              "    </tr>\n",
              "    <tr>\n",
              "      <th>13</th>\n",
              "      <td>VAR15</td>\n",
              "      <td>0.053721</td>\n",
              "    </tr>\n",
              "    <tr>\n",
              "      <th>14</th>\n",
              "      <td>VAR16</td>\n",
              "      <td>0.059305</td>\n",
              "    </tr>\n",
              "    <tr>\n",
              "      <th>15</th>\n",
              "      <td>VAR17</td>\n",
              "      <td>0.031617</td>\n",
              "    </tr>\n",
              "    <tr>\n",
              "      <th>16</th>\n",
              "      <td>VAR18</td>\n",
              "      <td>0.018115</td>\n",
              "    </tr>\n",
              "    <tr>\n",
              "      <th>17</th>\n",
              "      <td>VAR19</td>\n",
              "      <td>0.008378</td>\n",
              "    </tr>\n",
              "    <tr>\n",
              "      <th>18</th>\n",
              "      <td>VAR20</td>\n",
              "      <td>0.090589</td>\n",
              "    </tr>\n",
              "  </tbody>\n",
              "</table>\n",
              "</div>"
            ],
            "text/plain": [
              "   Feature  Importance\n",
              "0     VAR2    0.073944\n",
              "1     VAR3    0.088743\n",
              "2     VAR4    0.057558\n",
              "3     VAR5    0.055625\n",
              "4     VAR6    0.065748\n",
              "5     VAR7    0.061074\n",
              "6     VAR8    0.060669\n",
              "7     VAR9    0.046831\n",
              "8    VAR10    0.021598\n",
              "9    VAR11    0.062291\n",
              "10   VAR12    0.061525\n",
              "11   VAR13    0.055134\n",
              "12   VAR14    0.027536\n",
              "13   VAR15    0.053721\n",
              "14   VAR16    0.059305\n",
              "15   VAR17    0.031617\n",
              "16   VAR18    0.018115\n",
              "17   VAR19    0.008378\n",
              "18   VAR20    0.090589"
            ]
          },
          "metadata": {
            "tags": []
          },
          "execution_count": 60
        }
      ]
    }
  ]
}